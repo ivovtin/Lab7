{
 "cells": [
  {
   "cell_type": "code",
   "execution_count": 1,
   "id": "0cf0ae35",
   "metadata": {},
   "outputs": [],
   "source": [
    "import array\n",
    "from array import array\n",
    "import matplotlib.pyplot as plt\n",
    "from scipy.optimize import curve_fit\n",
    "from scipy import stats\n",
    "from scipy.signal import find_peaks\n",
    "import numpy as np\n",
    "from math import sqrt"
   ]
  },
  {
   "cell_type": "code",
   "execution_count": 2,
   "id": "fac97d8c",
   "metadata": {},
   "outputs": [],
   "source": [
    "##set up the correct directory name with data\n",
    "path = \"AbsorptionBeta\"\n",
    "\n",
    "##Paper\n",
    "fileName1 = \"paper.txt\"\n",
    "##Al\n",
    "fileName2 = \"Al.txt\"\n",
    "\n",
    "listFiles = [fileName1,fileName2]\n",
    "\n",
    "outFile = 'absorprion_law.png'  "
   ]
  },
  {
   "cell_type": "code",
   "execution_count": 19,
   "id": "243294c9",
   "metadata": {},
   "outputs": [
    {
     "data": {
      "image/png": "[encoded data removed]",
      "text/plain": [
       "<Figure size 1152x432 with 2 Axes>"
      ]
     },
     "metadata": {
      "needs_background": "light"
     },
     "output_type": "display_data"
    }
   ],
   "source": [
    "plt.figure(figsize=(16, 6))\n",
    "plt.subplots_adjust(wspace = 0.2)\n",
    "\n",
    "for fileName in listFiles:    \n",
    "    x,y, lenght = np.array([]), np.array([]), np.array([])\n",
    "    \n",
    "    file1 = open(path + \"/\" + fileName)\n",
    "    for line1 in file1.readlines():\n",
    "        line1 = line1.replace(',','.')\n",
    "        b = line1.split()\n",
    "        b[0] = float(b[0])\n",
    "        b[1] = float(b[1])\n",
    "        x = np.append(x, b[0])\n",
    "        y = np.append(y, b[1])\n",
    "        if listFiles.index(fileName) == 0: \n",
    "            lenght = np.append(lenght, b[0]*0.1)\n",
    "            ilabel = 'Paper'\n",
    "        else:\n",
    "            lenght = np.append(lenght, b[0]*0.025)\n",
    "            ilabel = 'Aluminum'\n",
    "\n",
    "    plt.subplot(121)\n",
    "    plt.plot(x, y,'o',markersize=4,label=ilabel)  \n",
    "    plt.subplot(122)\n",
    "    plt.plot(lenght, y,'o',markersize=4,label=ilabel)  \n",
    "\n",
    "plt.subplot(121)    \n",
    "plt.xlabel('Number of sheets')\n",
    "plt.ylabel('Frequency, kHz')\n",
    "plt.legend()\n",
    "plt.subplot(122)\n",
    "plt.xlabel('Crossed thickness, mm')\n",
    "plt.ylabel('Frequency, kHz')\n",
    "plt.legend()\n",
    "plt.savefig(outFile)    \n",
    "plt.show() "
   ]
  },
  {
   "cell_type": "code",
   "execution_count": null,
   "id": "edfe6100",
   "metadata": {},
   "outputs": [],
   "source": []
  }
 ],
 "metadata": {
  "kernelspec": {
   "display_name": "Python 3 (ipykernel)",
   "language": "python",
   "name": "python3"
  },
  "language_info": {
   "codemirror_mode": {
    "name": "ipython",
    "version": 3
   },
   "file_extension": ".py",
   "mimetype": "text/x-python",
   "name": "python",
   "nbconvert_exporter": "python",
   "pygments_lexer": "ipython3",
   "version": "3.8.10"
  }
 },
 "nbformat": 4,
 "nbformat_minor": 5
}
